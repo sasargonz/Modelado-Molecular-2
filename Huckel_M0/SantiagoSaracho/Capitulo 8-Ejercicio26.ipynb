{
 "cells": [
  {
   "cell_type": "code",
   "execution_count": 1,
   "metadata": {
    "collapsed": true
   },
   "outputs": [],
   "source": [
    "from sympy import *\n",
    "from sympy import init_printing; init_printing(use_latex = 'mathjax')"
   ]
  },
  {
   "cell_type": "code",
   "execution_count": 24,
   "metadata": {},
   "outputs": [
    {
     "data": {
      "text/latex": [
       "$$\\left ( l, \\quad m, \\quad \\hbar, \\quad W, \\quad \\pi\\right )$$"
      ],
      "text/plain": [
       "(l, m, h̅, W, π)"
      ]
     },
     "execution_count": 24,
     "metadata": {},
     "output_type": "execute_result"
    }
   ],
   "source": [
    "var('l m hbar W pi') #Variables a utilizar\n"
   ]
  },
  {
   "cell_type": "code",
   "execution_count": 92,
   "metadata": {},
   "outputs": [],
   "source": [
    "M=zeros(2,2)\n",
    "M[0,0]=sympify('hbar**2/(2*m*l**2)*pi**2+(1/2+1/pi)*hbar**2/(m*l**2)-W')\n",
    "M[0,1]=sympify('(-1/pi)*hbar**2/(m*l**2)')\n",
    "M[1,0]=sympify('(-1/pi)*hbar**2/(m*l**2)')\n",
    "M[1,1]=sympify('hbar**2/(2*m*l**2)*(3*pi)**2+(1/2-1/(3*pi))*hbar**2/(m*l**2)-W')"
   ]
  },
  {
   "cell_type": "code",
   "execution_count": 93,
   "metadata": {},
   "outputs": [
    {
     "data": {
      "text/latex": [
       "$$\\left[\\begin{matrix}- W + \\frac{\\hbar^{2} \\left(\\frac{1}{\\pi} + \\frac{1}{2}\\right)}{l^{2} m} + \\frac{\\pi^{2} \\hbar^{2}}{2 l^{2} m} & - \\frac{\\hbar^{2}}{\\pi l^{2} m}\\\\- \\frac{\\hbar^{2}}{\\pi l^{2} m} & - W + \\frac{\\hbar^{2}}{l^{2} m} \\left(- \\frac{1}{3 \\pi} + \\frac{1}{2}\\right) + \\frac{9 \\pi^{2} \\hbar^{2}}{2 l^{2} m}\\end{matrix}\\right]$$"
      ],
      "text/plain": [
       "⎡       2 ⎛1   1⎞                                          ⎤\n",
       "⎢     h̅ ⋅⎜─ + ─⎟    2   2                 2               ⎥\n",
       "⎢         ⎝π   2⎠   π ⋅h̅               -h̅                ⎥\n",
       "⎢-W + ─────────── + ──────              ──────             ⎥\n",
       "⎢          2           2                   2               ⎥\n",
       "⎢         l ⋅m      2⋅l ⋅m              π⋅l ⋅m             ⎥\n",
       "⎢                                                          ⎥\n",
       "⎢                                  2 ⎛   1    1⎞           ⎥\n",
       "⎢            2                   h̅ ⋅⎜- ─── + ─⎟      2   2⎥\n",
       "⎢         -h̅                        ⎝  3⋅π   2⎠   9⋅π ⋅h̅ ⎥\n",
       "⎢         ──────            -W + ─────────────── + ────────⎥\n",
       "⎢            2                          2              2   ⎥\n",
       "⎣         π⋅l ⋅m                       l ⋅m         2⋅l ⋅m ⎦"
      ]
     },
     "execution_count": 93,
     "metadata": {},
     "output_type": "execute_result"
    }
   ],
   "source": [
    "M"
   ]
  },
  {
   "cell_type": "code",
   "execution_count": 94,
   "metadata": {
    "collapsed": true
   },
   "outputs": [],
   "source": [
    "Wn=solve(M.det(),W)"
   ]
  },
  {
   "cell_type": "code",
   "execution_count": 112,
   "metadata": {},
   "outputs": [
    {
     "data": {
      "text/latex": [
       "$$\\left[\\begin{matrix}\\frac{44.8097107237294 \\hbar^{2}}{l^{2} m}\\\\\\frac{5.75051787250659 \\hbar^{2}}{l^{2} m}\\end{matrix}\\right]$$"
      ],
      "text/plain": [
       "⎡                   2⎤\n",
       "⎢44.8097107237294⋅h̅ ⎥\n",
       "⎢────────────────────⎥\n",
       "⎢         2          ⎥\n",
       "⎢        l ⋅m        ⎥\n",
       "⎢                    ⎥\n",
       "⎢                   2⎥\n",
       "⎢5.75051787250659⋅h̅ ⎥\n",
       "⎢────────────────────⎥\n",
       "⎢         2          ⎥\n",
       "⎣        l ⋅m        ⎦"
      ]
     },
     "execution_count": 112,
     "metadata": {},
     "output_type": "execute_result"
    }
   ],
   "source": [
    "(Matrix(Wn).evalf())"
   ]
  },
  {
   "cell_type": "code",
   "execution_count": 96,
   "metadata": {},
   "outputs": [],
   "source": [
    "w=[]\n",
    "w.append(N(Wn[1]))\n",
    "w.append(N(Wn[0]))\n",
    "c=[]\n",
    "c.append(sympify('c1'))\n",
    "c.append(sympify('c2'))"
   ]
  },
  {
   "cell_type": "code",
   "execution_count": 97,
   "metadata": {},
   "outputs": [
    {
     "data": {
      "text/latex": [
       "$$\\left [ \\frac{5.75051787250659 \\hbar^{2}}{l^{2} m}, \\quad \\frac{44.8097107237294 \\hbar^{2}}{l^{2} m}\\right ]$$"
      ],
      "text/plain": [
       "⎡                   2                     2⎤\n",
       "⎢5.75051787250659⋅h̅   44.8097107237294⋅h̅ ⎥\n",
       "⎢────────────────────, ────────────────────⎥\n",
       "⎢         2                     2          ⎥\n",
       "⎣        l ⋅m                  l ⋅m        ⎦"
      ]
     },
     "execution_count": 97,
     "metadata": {},
     "output_type": "execute_result"
    }
   ],
   "source": [
    "w"
   ]
  },
  {
   "cell_type": "code",
   "execution_count": 99,
   "metadata": {},
   "outputs": [
    {
     "data": {
      "text/latex": [
       "$$\\left [ \\frac{5.750345 \\hbar^{2}}{l^{2} m}, \\quad \\frac{44.808373 \\hbar^{2}}{l^{2} m}\\right ]$$"
      ],
      "text/plain": [
       "⎡           2              2⎤\n",
       "⎢5.750345⋅h̅   44.808373⋅h̅ ⎥\n",
       "⎢────────────, ─────────────⎥\n",
       "⎢     2              2      ⎥\n",
       "⎣    l ⋅m           l ⋅m    ⎦"
      ]
     },
     "execution_count": 99,
     "metadata": {},
     "output_type": "execute_result"
    }
   ],
   "source": [
    "E=[]\n",
    "E.append(5.750345*hbar**2/(m*l**2))\n",
    "E.append(44.808373*hbar**2/(m*l**2))\n",
    "E"
   ]
  },
  {
   "cell_type": "code",
   "execution_count": 106,
   "metadata": {},
   "outputs": [
    {
     "data": {
      "text/latex": [
       "$$\\left [ 0.00300629799759328, \\quad 0.00298543249805642\\right ]$$"
      ],
      "text/plain": [
       "[0.00300629799759328, 0.00298543249805642]"
      ]
     },
     "execution_count": 106,
     "metadata": {},
     "output_type": "execute_result"
    }
   ],
   "source": [
    "err=[]\n",
    "for i in range(0,len(w)):\n",
    "    err.append((w[i]-E[i])/E[i]*100)\n",
    "err"
   ]
  }
 ],
 "metadata": {
  "kernelspec": {
   "display_name": "Python 3",
   "language": "python",
   "name": "python3"
  },
  "language_info": {
   "codemirror_mode": {
    "name": "ipython",
    "version": 3
   },
   "file_extension": ".py",
   "mimetype": "text/x-python",
   "name": "python",
   "nbconvert_exporter": "python",
   "pygments_lexer": "ipython3",
   "version": "3.6.1"
  }
 },
 "nbformat": 4,
 "nbformat_minor": 2
}
