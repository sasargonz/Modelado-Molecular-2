{
 "cells": [
  {
   "cell_type": "code",
   "execution_count": 1,
   "metadata": {
    "collapsed": true
   },
   "outputs": [],
   "source": [
    "from sympy import *\n",
    "from sympy import init_printing; init_printing(use_latex = 'mathjax')"
   ]
  },
  {
   "cell_type": "markdown",
   "metadata": {},
   "source": [
    "## Funciones variacionales lineales, método de Huckel\n",
    "Se busca obtener los valores de $W$ resultantes de:\n",
    "\\begin{equation}\n",
    "  \\det(H_{ij}-S_{ij}W)=0\n",
    "\\end{equation}\n",
    "En donde conocemos $H_{ij}$ como la integral de intercambio y $S_{ij}$ como la integral de solapamiento:\n",
    "\\begin{equation}\n",
    "  H_{ij}=\\int f_{i}^{*}\\ H\\ f_{j}\\ d\\tau \\\\\n",
    "  S_{ij}=\\int f_{i}^{*}\\ f_{j}\\ d\\tau\n",
    "\\end{equation}\n",
    "\n",
    "### Ejemplo de sección 8.5 de libro química cuántica de Levine edición 5\n",
    "\n",
    "Se utilizan en este ejemplo las 4 funciones siguientes:\n",
    "\\begin{equation}\n",
    "  f_{1} = x(l-x)\\\\\n",
    "  f_{2} = x^{2}(l-x)^{2}\\\\\n",
    "  f_{3} = x(l-x)\\left(\\frac{l}{2}-x\\right)\\\\\n",
    "  f_{4} = x^{2}(l-x)^{2}\\left(\\frac{l}{2}-x\\right)\n",
    "\\end{equation}"
   ]
  },
  {
   "cell_type": "code",
   "execution_count": 2,
   "metadata": {
    "collapsed": true
   },
   "outputs": [],
   "source": [
    "#Definicion de variables y funciones\n",
    "var('x l m hbar W k') #Variables a utilizar\n",
    "\n",
    "def hami(F): #Arreglo de funciones y cantidad de funciones como argumentos\n",
    "    H=eval(input(str('Escribe el Hamiltoniano aplicado a f: ')))\n",
    "    return H"
   ]
  },
  {
   "cell_type": "code",
   "execution_count": 3,
   "metadata": {},
   "outputs": [
    {
     "name": "stdout",
     "output_type": "stream",
     "text": [
      "Indica la cantidad de funciones de prueba: 4\n",
      "Escribre tu funcion 1: x*(l-x)\n",
      "Escribre tu funcion 2: x**2*(l-x)**2\n",
      "Escribre tu funcion 3: x*(l-x)*(l/2-x)\n",
      "Escribre tu funcion 4: x**2*(l-x)**2*(l/2-x)\n"
     ]
    }
   ],
   "source": [
    "n = int(input('Indica la cantidad de funciones de prueba: '))\n",
    "F=[]\n",
    "for i in range (0,n):\n",
    "    F.append(str(input('Escribre tu funcion %d: '  %(i+1))))\n",
    "    \n",
    "F=sympify(F)\n",
    "F=Matrix(F)\n",
    "#Funciones del ejemplo de sección 8.5\n",
    "#x*(l-x)\n",
    "#x**2*(l-x)**2\n",
    "#x*(l-x)*(l/2-x)\n",
    "#x**2*(l-x)**2*(l/2-x)"
   ]
  },
  {
   "cell_type": "code",
   "execution_count": 4,
   "metadata": {},
   "outputs": [
    {
     "name": "stdout",
     "output_type": "stream",
     "text": [
      "Escribe el Hamiltoniano aplicado a f: (-hbar**2/(2*m))*diff(F, x, 2)\n"
     ]
    }
   ],
   "source": [
    "ff=F*F.T\n",
    "fHf=F*hami(F).T\n",
    "H=Integral(fHf, (x,0,l)).doit()\n",
    "S=Integral(ff, (x,0,l)).doit()\n",
    "H_SW=H-S*W"
   ]
  },
  {
   "cell_type": "code",
   "execution_count": 5,
   "metadata": {},
   "outputs": [
    {
     "data": {
      "text/latex": [
       "$$\\left[\\begin{matrix}\\frac{\\hbar^{2} l^{3}}{6 m} & \\frac{\\hbar^{2} l^{5}}{30 m} & 0 & 0\\\\\\frac{\\hbar^{2} l^{5}}{30 m} & \\frac{\\hbar^{2} l^{7}}{105 m} & 0 & 0\\\\0 & 0 & \\frac{\\hbar^{2} l^{5}}{40 m} & \\frac{\\hbar^{2} l^{7}}{280 m}\\\\0 & 0 & \\frac{\\hbar^{2} l^{7}}{280 m} & \\frac{\\hbar^{2} l^{9}}{1260 m}\\end{matrix}\\right]$$"
      ],
      "text/plain": [
       "⎡  2  3    2  5                ⎤\n",
       "⎢h̅ ⋅l   h̅ ⋅l                 ⎥\n",
       "⎢──────  ──────    0       0   ⎥\n",
       "⎢ 6⋅m     30⋅m                 ⎥\n",
       "⎢                              ⎥\n",
       "⎢  2  5    2  7                ⎥\n",
       "⎢h̅ ⋅l   h̅ ⋅l                 ⎥\n",
       "⎢──────  ──────    0       0   ⎥\n",
       "⎢ 30⋅m   105⋅m                 ⎥\n",
       "⎢                              ⎥\n",
       "⎢                  2  5    2  7⎥\n",
       "⎢                h̅ ⋅l   h̅ ⋅l ⎥\n",
       "⎢  0       0     ──────  ──────⎥\n",
       "⎢                 40⋅m   280⋅m ⎥\n",
       "⎢                              ⎥\n",
       "⎢                  2  7    2  9⎥\n",
       "⎢                h̅ ⋅l   h̅ ⋅l ⎥\n",
       "⎢  0       0     ──────  ──────⎥\n",
       "⎣                280⋅m   1260⋅m⎦"
      ]
     },
     "execution_count": 5,
     "metadata": {},
     "output_type": "execute_result"
    }
   ],
   "source": [
    "H"
   ]
  },
  {
   "cell_type": "code",
   "execution_count": 6,
   "metadata": {},
   "outputs": [
    {
     "data": {
      "text/latex": [
       "$$\\left[\\begin{matrix}\\frac{l^{5}}{30} & \\frac{l^{7}}{140} & 0 & 0\\\\\\frac{l^{7}}{140} & \\frac{l^{9}}{630} & 0 & 0\\\\0 & 0 & \\frac{l^{7}}{840} & \\frac{l^{9}}{5040}\\\\0 & 0 & \\frac{l^{9}}{5040} & \\frac{l^{11}}{27720}\\end{matrix}\\right]$$"
      ],
      "text/plain": [
       "⎡ 5     7             ⎤\n",
       "⎢l     l              ⎥\n",
       "⎢──   ───   0      0  ⎥\n",
       "⎢30   140             ⎥\n",
       "⎢                     ⎥\n",
       "⎢  7    9             ⎥\n",
       "⎢ l    l              ⎥\n",
       "⎢───  ───   0      0  ⎥\n",
       "⎢140  630             ⎥\n",
       "⎢                     ⎥\n",
       "⎢            7     9  ⎥\n",
       "⎢           l     l   ⎥\n",
       "⎢ 0    0   ───   ──── ⎥\n",
       "⎢          840   5040 ⎥\n",
       "⎢                     ⎥\n",
       "⎢            9     11 ⎥\n",
       "⎢           l     l   ⎥\n",
       "⎢ 0    0   ────  ─────⎥\n",
       "⎣          5040  27720⎦"
      ]
     },
     "execution_count": 6,
     "metadata": {},
     "output_type": "execute_result"
    }
   ],
   "source": [
    "S"
   ]
  },
  {
   "cell_type": "code",
   "execution_count": 7,
   "metadata": {},
   "outputs": [
    {
     "data": {
      "text/latex": [
       "$$\\left[\\begin{matrix}- \\frac{W l^{5}}{30} + \\frac{\\hbar^{2} l^{3}}{6 m} & - \\frac{W l^{7}}{140} + \\frac{\\hbar^{2} l^{5}}{30 m} & 0 & 0\\\\- \\frac{W l^{7}}{140} + \\frac{\\hbar^{2} l^{5}}{30 m} & - \\frac{W l^{9}}{630} + \\frac{\\hbar^{2} l^{7}}{105 m} & 0 & 0\\\\0 & 0 & - \\frac{W l^{7}}{840} + \\frac{\\hbar^{2} l^{5}}{40 m} & - \\frac{W l^{9}}{5040} + \\frac{\\hbar^{2} l^{7}}{280 m}\\\\0 & 0 & - \\frac{W l^{9}}{5040} + \\frac{\\hbar^{2} l^{7}}{280 m} & - \\frac{W l^{11}}{27720} + \\frac{\\hbar^{2} l^{9}}{1260 m}\\end{matrix}\\right]$$"
      ],
      "text/plain": [
       "⎡     5     2  3       7     2  5                                   ⎤\n",
       "⎢  W⋅l    h̅ ⋅l     W⋅l    h̅ ⋅l                                    ⎥\n",
       "⎢- ──── + ──────  - ──── + ──────         0                0        ⎥\n",
       "⎢   30     6⋅m      140     30⋅m                                    ⎥\n",
       "⎢                                                                   ⎥\n",
       "⎢     7     2  5       9     2  7                                   ⎥\n",
       "⎢  W⋅l    h̅ ⋅l     W⋅l    h̅ ⋅l                                    ⎥\n",
       "⎢- ──── + ──────  - ──── + ──────         0                0        ⎥\n",
       "⎢  140     30⋅m     630    105⋅m                                    ⎥\n",
       "⎢                                                                   ⎥\n",
       "⎢                                       7     2  5       9     2  7 ⎥\n",
       "⎢                                    W⋅l    h̅ ⋅l     W⋅l    h̅ ⋅l  ⎥\n",
       "⎢       0                0         - ──── + ──────  - ──── + ────── ⎥\n",
       "⎢                                    840     40⋅m     5040   280⋅m  ⎥\n",
       "⎢                                                                   ⎥\n",
       "⎢                                       9     2  7       11     2  9⎥\n",
       "⎢                                    W⋅l    h̅ ⋅l     W⋅l     h̅ ⋅l ⎥\n",
       "⎢       0                0         - ──── + ──────  - ───── + ──────⎥\n",
       "⎣                                    5040   280⋅m     27720   1260⋅m⎦"
      ]
     },
     "execution_count": 7,
     "metadata": {},
     "output_type": "execute_result"
    }
   ],
   "source": [
    "H_SW"
   ]
  },
  {
   "cell_type": "code",
   "execution_count": 8,
   "metadata": {},
   "outputs": [
    {
     "data": {
      "text/latex": [
       "$$\\left [ \\frac{2 \\hbar^{2}}{l^{2} m} \\left(- \\sqrt{133} + 14\\right), \\quad \\frac{2 \\hbar^{2}}{l^{2} m} \\left(\\sqrt{133} + 14\\right), \\quad \\frac{2 \\hbar^{2}}{l^{2} m} \\left(- 9 \\sqrt{5} + 30\\right), \\quad \\frac{2 \\hbar^{2}}{l^{2} m} \\left(9 \\sqrt{5} + 30\\right)\\right ]$$"
      ],
      "text/plain": [
       "⎡    2                   2                  2                   2            ⎤\n",
       "⎢2⋅h̅ ⋅(-√133 + 14)  2⋅h̅ ⋅(√133 + 14)  2⋅h̅ ⋅(-9⋅√5 + 30)  2⋅h̅ ⋅(9⋅√5 + 30)⎥\n",
       "⎢──────────────────, ─────────────────, ──────────────────, ─────────────────⎥\n",
       "⎢        2                   2                  2                   2        ⎥\n",
       "⎣       l ⋅m                l ⋅m               l ⋅m                l ⋅m      ⎦"
      ]
     },
     "execution_count": 8,
     "metadata": {},
     "output_type": "execute_result"
    }
   ],
   "source": [
    "#Soluciones para W\n",
    "Wn=solve(H_SW.det(),W)\n",
    "Wn"
   ]
  },
  {
   "cell_type": "markdown",
   "metadata": {},
   "source": [
    "### Obtención de $\\phi_{1}$\n",
    "\n",
    "Sabemos que:\n",
    "\\begin{equation}\n",
    "  \\phi = \\sum _{i=1}^{n} c_{i} f_{i}\n",
    "\\end{equation}\n",
    "\n",
    "Y además tenemos:\n",
    "\\begin{equation}\n",
    "  \\sum _{j=1}^{n} \\left[\\left(H_{ij}-S_{ij}W\\right)c_{j}\\right]=0, \\qquad i=1,2,3,\\cdots,n\n",
    "\\end{equation}\n",
    "\n",
    "Por lo que para cada $W$ podemos calcular el valor de las $c_{i}$ correspondientes"
   ]
  },
  {
   "cell_type": "code",
   "execution_count": 9,
   "metadata": {
    "collapsed": true
   },
   "outputs": [],
   "source": [
    "H_SW1 = zeros(n,n) #Matriz (Hij - Sij*W1)cj\n",
    "\n",
    "c=[] #Matriz de coeficientes c\n",
    "for i in range (0,n):\n",
    "    c.append(str('c_%d'  %(i+1)))\n",
    "c=sympify(c)\n",
    "\n",
    "for i in range (0,n):\n",
    "    for j in range (0,n):\n",
    "        H_SW1[i,j]=((H[i,j]-S[i,j]*Wn[0])*c[j]) #Por lo pronto únicamente se realiza para W1"
   ]
  },
  {
   "cell_type": "code",
   "execution_count": 10,
   "metadata": {},
   "outputs": [
    {
     "data": {
      "text/latex": [
       "$$\\left[\\begin{matrix}c_{1} \\left(- \\frac{\\hbar^{2} l^{3}}{15 m} \\left(- \\sqrt{133} + 14\\right) + \\frac{\\hbar^{2} l^{3}}{6 m}\\right) & c_{2} \\left(- \\frac{\\hbar^{2} l^{5}}{70 m} \\left(- \\sqrt{133} + 14\\right) + \\frac{\\hbar^{2} l^{5}}{30 m}\\right) & 0 & 0\\\\c_{1} \\left(- \\frac{\\hbar^{2} l^{5}}{70 m} \\left(- \\sqrt{133} + 14\\right) + \\frac{\\hbar^{2} l^{5}}{30 m}\\right) & c_{2} \\left(- \\frac{\\hbar^{2} l^{7}}{315 m} \\left(- \\sqrt{133} + 14\\right) + \\frac{\\hbar^{2} l^{7}}{105 m}\\right) & 0 & 0\\\\0 & 0 & c_{3} \\left(- \\frac{\\hbar^{2} l^{5}}{420 m} \\left(- \\sqrt{133} + 14\\right) + \\frac{\\hbar^{2} l^{5}}{40 m}\\right) & c_{4} \\left(- \\frac{\\hbar^{2} l^{7}}{2520 m} \\left(- \\sqrt{133} + 14\\right) + \\frac{\\hbar^{2} l^{7}}{280 m}\\right)\\\\0 & 0 & c_{3} \\left(- \\frac{\\hbar^{2} l^{7}}{2520 m} \\left(- \\sqrt{133} + 14\\right) + \\frac{\\hbar^{2} l^{7}}{280 m}\\right) & c_{4} \\left(- \\frac{\\hbar^{2} l^{9}}{13860 m} \\left(- \\sqrt{133} + 14\\right) + \\frac{\\hbar^{2} l^{9}}{1260 m}\\right)\\end{matrix}\\right]$$"
      ],
      "text/plain": [
       "⎡   ⎛    2  3                  2  3⎞     ⎛    2  5                  2  5⎞     \n",
       "⎢   ⎜  h̅ ⋅l ⋅(-√133 + 14)   h̅ ⋅l ⎟     ⎜  h̅ ⋅l ⋅(-√133 + 14)   h̅ ⋅l ⎟     \n",
       "⎢c₁⋅⎜- ─────────────────── + ──────⎟  c₂⋅⎜- ─────────────────── + ──────⎟     \n",
       "⎢   ⎝          15⋅m           6⋅m  ⎠     ⎝          70⋅m           30⋅m ⎠     \n",
       "⎢                                                                             \n",
       "⎢   ⎛    2  5                  2  5⎞     ⎛    2  7                  2  7⎞     \n",
       "⎢   ⎜  h̅ ⋅l ⋅(-√133 + 14)   h̅ ⋅l ⎟     ⎜  h̅ ⋅l ⋅(-√133 + 14)   h̅ ⋅l ⎟     \n",
       "⎢c₁⋅⎜- ─────────────────── + ──────⎟  c₂⋅⎜- ─────────────────── + ──────⎟     \n",
       "⎢   ⎝          70⋅m           30⋅m ⎠     ⎝         315⋅m          105⋅m ⎠     \n",
       "⎢                                                                             \n",
       "⎢                                                                             \n",
       "⎢                                                                             \n",
       "⎢                 0                                    0                   c₃⋅\n",
       "⎢                                                                             \n",
       "⎢                                                                             \n",
       "⎢                                                                             \n",
       "⎢                                                                             \n",
       "⎢                 0                                    0                   c₃⋅\n",
       "⎣                                                                             \n",
       "\n",
       "                                                                     ⎤\n",
       "                                                                     ⎥\n",
       "              0                                    0                 ⎥\n",
       "                                                                     ⎥\n",
       "                                                                     ⎥\n",
       "                                                                     ⎥\n",
       "                                                                     ⎥\n",
       "              0                                    0                 ⎥\n",
       "                                                                     ⎥\n",
       "                                                                     ⎥\n",
       "⎛    2  5                  2  5⎞     ⎛    2  7                  2  7⎞⎥\n",
       "⎜  h̅ ⋅l ⋅(-√133 + 14)   h̅ ⋅l ⎟     ⎜  h̅ ⋅l ⋅(-√133 + 14)   h̅ ⋅l ⎟⎥\n",
       "⎜- ─────────────────── + ──────⎟  c₄⋅⎜- ─────────────────── + ──────⎟⎥\n",
       "⎝         420⋅m           40⋅m ⎠     ⎝         2520⋅m         280⋅m ⎠⎥\n",
       "                                                                     ⎥\n",
       "⎛    2  7                  2  7⎞     ⎛    2  9                  2  9⎞⎥\n",
       "⎜  h̅ ⋅l ⋅(-√133 + 14)   h̅ ⋅l ⎟     ⎜  h̅ ⋅l ⋅(-√133 + 14)   h̅ ⋅l ⎟⎥\n",
       "⎜- ─────────────────── + ──────⎟  c₄⋅⎜- ─────────────────── + ──────⎟⎥\n",
       "⎝         2520⋅m         280⋅m ⎠     ⎝        13860⋅m         1260⋅m⎠⎦"
      ]
     },
     "execution_count": 10,
     "metadata": {},
     "output_type": "execute_result"
    }
   ],
   "source": [
    "H_SW1 #De esta matriz se obtienen las ecuaciones para obtener el valor de las c"
   ]
  },
  {
   "cell_type": "code",
   "execution_count": 11,
   "metadata": {
    "collapsed": true
   },
   "outputs": [],
   "source": [
    "eq=[] #Matriz de ecuaciones para obtener las soluciones a las c\n",
    "for i in range (0,n):\n",
    "    eqn=0\n",
    "    for j in range (0,n):\n",
    "        eqn=eqn+H_SW1[i,j]\n",
    "    eq.append(eqn)\n",
    "\n",
    "eq.append(c[0]-k) #se agrega c1=k para establecer un valor de constante que después debe ser normalizado\n",
    "eq=sympify(eq)\n",
    "\n",
    "sol=solve(eq,c, dict=true)\n",
    "#sol[0][c[0]] Forma de acceder a las soluciones"
   ]
  },
  {
   "cell_type": "code",
   "execution_count": 12,
   "metadata": {},
   "outputs": [
    {
     "data": {
      "text/latex": [
       "$$\\left [ c_{1} \\left(- \\frac{\\hbar^{2} l^{3}}{15 m} \\left(- \\sqrt{133} + 14\\right) + \\frac{\\hbar^{2} l^{3}}{6 m}\\right) + c_{2} \\left(- \\frac{\\hbar^{2} l^{5}}{70 m} \\left(- \\sqrt{133} + 14\\right) + \\frac{\\hbar^{2} l^{5}}{30 m}\\right), \\quad c_{1} \\left(- \\frac{\\hbar^{2} l^{5}}{70 m} \\left(- \\sqrt{133} + 14\\right) + \\frac{\\hbar^{2} l^{5}}{30 m}\\right) + c_{2} \\left(- \\frac{\\hbar^{2} l^{7}}{315 m} \\left(- \\sqrt{133} + 14\\right) + \\frac{\\hbar^{2} l^{7}}{105 m}\\right), \\quad c_{3} \\left(- \\frac{\\hbar^{2} l^{5}}{420 m} \\left(- \\sqrt{133} + 14\\right) + \\frac{\\hbar^{2} l^{5}}{40 m}\\right) + c_{4} \\left(- \\frac{\\hbar^{2} l^{7}}{2520 m} \\left(- \\sqrt{133} + 14\\right) + \\frac{\\hbar^{2} l^{7}}{280 m}\\right), \\quad c_{3} \\left(- \\frac{\\hbar^{2} l^{7}}{2520 m} \\left(- \\sqrt{133} + 14\\right) + \\frac{\\hbar^{2} l^{7}}{280 m}\\right) + c_{4} \\left(- \\frac{\\hbar^{2} l^{9}}{13860 m} \\left(- \\sqrt{133} + 14\\right) + \\frac{\\hbar^{2} l^{9}}{1260 m}\\right), \\quad c_{1} - k\\right ]$$"
      ],
      "text/plain": [
       "⎡   ⎛    2  3                  2  3⎞      ⎛    2  5                  2  5⎞    \n",
       "⎢   ⎜  h̅ ⋅l ⋅(-√133 + 14)   h̅ ⋅l ⎟      ⎜  h̅ ⋅l ⋅(-√133 + 14)   h̅ ⋅l ⎟    \n",
       "⎢c₁⋅⎜- ─────────────────── + ──────⎟ + c₂⋅⎜- ─────────────────── + ──────⎟, c₁\n",
       "⎣   ⎝          15⋅m           6⋅m  ⎠      ⎝          70⋅m           30⋅m ⎠    \n",
       "\n",
       " ⎛    2  5                  2  5⎞      ⎛    2  7                  2  7⎞     ⎛ \n",
       " ⎜  h̅ ⋅l ⋅(-√133 + 14)   h̅ ⋅l ⎟      ⎜  h̅ ⋅l ⋅(-√133 + 14)   h̅ ⋅l ⎟     ⎜ \n",
       "⋅⎜- ─────────────────── + ──────⎟ + c₂⋅⎜- ─────────────────── + ──────⎟, c₃⋅⎜-\n",
       " ⎝          70⋅m           30⋅m ⎠      ⎝         315⋅m          105⋅m ⎠     ⎝ \n",
       "\n",
       "   2  5                  2  5⎞      ⎛    2  7                  2  7⎞     ⎛    \n",
       " h̅ ⋅l ⋅(-√133 + 14)   h̅ ⋅l ⎟      ⎜  h̅ ⋅l ⋅(-√133 + 14)   h̅ ⋅l ⎟     ⎜  h̅\n",
       " ─────────────────── + ──────⎟ + c₄⋅⎜- ─────────────────── + ──────⎟, c₃⋅⎜- ──\n",
       "        420⋅m           40⋅m ⎠      ⎝         2520⋅m         280⋅m ⎠     ⎝    \n",
       "\n",
       "2  7                  2  7⎞      ⎛    2  9                  2  9⎞        ⎤\n",
       " ⋅l ⋅(-√133 + 14)   h̅ ⋅l ⎟      ⎜  h̅ ⋅l ⋅(-√133 + 14)   h̅ ⋅l ⎟        ⎥\n",
       "───────────────── + ──────⎟ + c₄⋅⎜- ─────────────────── + ──────⎟, c₁ - k⎥\n",
       "     2520⋅m         280⋅m ⎠      ⎝        13860⋅m         1260⋅m⎠        ⎦"
      ]
     },
     "execution_count": 12,
     "metadata": {},
     "output_type": "execute_result"
    }
   ],
   "source": [
    "eq"
   ]
  },
  {
   "cell_type": "code",
   "execution_count": 13,
   "metadata": {},
   "outputs": [
    {
     "data": {
      "text/latex": [
       "$$\\left [ \\left \\{ c_{1} : k, \\quad c_{2} : \\frac{21 k}{l^{2} \\left(7 + \\sqrt{133}\\right)}, \\quad c_{3} : 0, \\quad c_{4} : 0\\right \\}\\right ]$$"
      ],
      "text/plain": [
       "⎡⎧                21⋅k                  ⎫⎤\n",
       "⎢⎪c₁: k, c₂: ─────────────, c₃: 0, c₄: 0⎪⎥\n",
       "⎢⎨            2                         ⎬⎥\n",
       "⎢⎪           l ⋅(7 + √133)              ⎪⎥\n",
       "⎣⎩                                      ⎭⎦"
      ]
     },
     "execution_count": 13,
     "metadata": {},
     "output_type": "execute_result"
    }
   ],
   "source": [
    "sol"
   ]
  },
  {
   "cell_type": "code",
   "execution_count": 14,
   "metadata": {
    "collapsed": true
   },
   "outputs": [],
   "source": [
    "#Normalizar\n",
    "Phi1=0\n",
    "for i in range (0,n):\n",
    "    Phi1=Phi1 + sol[0][c[i]]*F[i]\n",
    "\n",
    "Norm=Integral(Phi1**2, (x,0,l)).doit()-1 \n",
    "\n",
    "K=(solve(Norm,k)[0]).evalf() #Valor positivo de k \n"
   ]
  },
  {
   "cell_type": "code",
   "execution_count": 15,
   "metadata": {},
   "outputs": [
    {
     "data": {
      "text/latex": [
       "$$- 4.40399751133633 x \\left(l - x\\right) \\left(\\frac{1}{l^{5}}\\right)^{0.5} - \\frac{4.99034859672658 x^{2}}{l^{2}} \\left(l - x\\right)^{2} \\left(\\frac{1}{l^{5}}\\right)^{0.5}$$"
      ],
      "text/plain": [
       "                                                                        0.5\n",
       "                                                         2        2 ⎛1 ⎞   \n",
       "                                       4.99034859672658⋅x ⋅(l - x) ⋅⎜──⎟   \n",
       "                                 0.5                                ⎜ 5⎟   \n",
       "                             ⎛1 ⎞                                   ⎝l ⎠   \n",
       "- 4.40399751133633⋅x⋅(l - x)⋅⎜──⎟    - ────────────────────────────────────\n",
       "                             ⎜ 5⎟                        2                 \n",
       "                             ⎝l ⎠                       l                  "
      ]
     },
     "execution_count": 15,
     "metadata": {},
     "output_type": "execute_result"
    }
   ],
   "source": [
    "(Phi1.subs(k,K)).evalf()"
   ]
  },
  {
   "cell_type": "markdown",
   "metadata": {},
   "source": [
    "### A continuación se busca generalizar el proceso para obtener todas las $\\phi$"
   ]
  },
  {
   "cell_type": "code",
   "execution_count": 47,
   "metadata": {
    "collapsed": true
   },
   "outputs": [],
   "source": [
    "#Generalizar para todas las Wn\n",
    "import numpy as np\n",
    "H_SWn = np.zeros((n,n,n), dtype=object) #Matriz (Hij - Sij*W1)cj\n",
    "\n",
    "c_gral=zeros(n,n) #Matriz de coeficientes c\n",
    "for i in range (0,n):\n",
    "    for j in range (0,n):\n",
    "        c_gral[i,j]=sympify((str('c_' +str(i+1) + '_' + str(j+1))))\n",
    "\n",
    "for z in range (0,n):\n",
    "    for i in range (0,n):\n",
    "        for j in range (0,n):\n",
    "            H_SWn[z,i,j]=sympify(((H[i,j]-S[i,j]*Wn[z])*c_gral[z,j])) #Por lo pronto únicamente se realiza para W1\n",
    "            \n",
    "eq_gral=zeros(n,n+1) #Matriz de ecuaciones para obtener las soluciones a las c\n",
    "for z in range (0,n):\n",
    "    for i in range (0,n):\n",
    "        eqn=0\n",
    "        for j in range (0,n):\n",
    "            eqn=eqn+H_SWn[z,i,j]\n",
    "        eq_gral[z,i]=eqn\n",
    "\n",
    "        \n",
    "#se agrega c1=k para establecer un valor de constante que después debe ser normalizado, se realizó de forma manual\n",
    "#eq_gral[0,4]=c_gral[0,0]-k\n",
    "#eq_gral[1,4]=c_gral[1,0]-k\n",
    "#eq_gral[2,4]=c_gral[2,2]-k\n",
    "#eq_gral[3,4]=c_gral[3,2]-k\n",
    "eq_gral=sympify(eq_gral)\n",
    "\n",
    "sol_gral=[]\n",
    "for i in range (0,n):\n",
    "    sol_gral.append(solve(eq_gral[i,:], c_gral[i,:], dict=true))\n",
    "#sol[0][c[0]] Forma de acceder a las soluciones"
   ]
  },
  {
   "cell_type": "code",
   "execution_count": 48,
   "metadata": {},
   "outputs": [
    {
     "data": {
      "text/latex": [
       "$$\\left[\\begin{matrix}c_{1 1} \\left(- \\frac{\\hbar^{2} l^{3}}{15 m} \\left(- \\sqrt{133} + 14\\right) + \\frac{\\hbar^{2} l^{3}}{6 m}\\right) + c_{1 2} \\left(- \\frac{\\hbar^{2} l^{5}}{70 m} \\left(- \\sqrt{133} + 14\\right) + \\frac{\\hbar^{2} l^{5}}{30 m}\\right) & c_{1 1} \\left(- \\frac{\\hbar^{2} l^{5}}{70 m} \\left(- \\sqrt{133} + 14\\right) + \\frac{\\hbar^{2} l^{5}}{30 m}\\right) + c_{1 2} \\left(- \\frac{\\hbar^{2} l^{7}}{315 m} \\left(- \\sqrt{133} + 14\\right) + \\frac{\\hbar^{2} l^{7}}{105 m}\\right) & c_{1 3} \\left(- \\frac{\\hbar^{2} l^{5}}{420 m} \\left(- \\sqrt{133} + 14\\right) + \\frac{\\hbar^{2} l^{5}}{40 m}\\right) + c_{1 4} \\left(- \\frac{\\hbar^{2} l^{7}}{2520 m} \\left(- \\sqrt{133} + 14\\right) + \\frac{\\hbar^{2} l^{7}}{280 m}\\right) & c_{1 3} \\left(- \\frac{\\hbar^{2} l^{7}}{2520 m} \\left(- \\sqrt{133} + 14\\right) + \\frac{\\hbar^{2} l^{7}}{280 m}\\right) + c_{1 4} \\left(- \\frac{\\hbar^{2} l^{9}}{13860 m} \\left(- \\sqrt{133} + 14\\right) + \\frac{\\hbar^{2} l^{9}}{1260 m}\\right) & 0\\\\c_{2 1} \\left(- \\frac{\\hbar^{2} l^{3}}{15 m} \\left(\\sqrt{133} + 14\\right) + \\frac{\\hbar^{2} l^{3}}{6 m}\\right) + c_{2 2} \\left(- \\frac{\\hbar^{2} l^{5}}{70 m} \\left(\\sqrt{133} + 14\\right) + \\frac{\\hbar^{2} l^{5}}{30 m}\\right) & c_{2 1} \\left(- \\frac{\\hbar^{2} l^{5}}{70 m} \\left(\\sqrt{133} + 14\\right) + \\frac{\\hbar^{2} l^{5}}{30 m}\\right) + c_{2 2} \\left(- \\frac{\\hbar^{2} l^{7}}{315 m} \\left(\\sqrt{133} + 14\\right) + \\frac{\\hbar^{2} l^{7}}{105 m}\\right) & c_{2 3} \\left(- \\frac{\\hbar^{2} l^{5}}{420 m} \\left(\\sqrt{133} + 14\\right) + \\frac{\\hbar^{2} l^{5}}{40 m}\\right) + c_{2 4} \\left(- \\frac{\\hbar^{2} l^{7}}{2520 m} \\left(\\sqrt{133} + 14\\right) + \\frac{\\hbar^{2} l^{7}}{280 m}\\right) & c_{2 3} \\left(- \\frac{\\hbar^{2} l^{7}}{2520 m} \\left(\\sqrt{133} + 14\\right) + \\frac{\\hbar^{2} l^{7}}{280 m}\\right) + c_{2 4} \\left(- \\frac{\\hbar^{2} l^{9}}{13860 m} \\left(\\sqrt{133} + 14\\right) + \\frac{\\hbar^{2} l^{9}}{1260 m}\\right) & 0\\\\c_{3 1} \\left(- \\frac{\\hbar^{2} l^{3}}{15 m} \\left(- 9 \\sqrt{5} + 30\\right) + \\frac{\\hbar^{2} l^{3}}{6 m}\\right) + c_{3 2} \\left(- \\frac{\\hbar^{2} l^{5}}{70 m} \\left(- 9 \\sqrt{5} + 30\\right) + \\frac{\\hbar^{2} l^{5}}{30 m}\\right) & c_{3 1} \\left(- \\frac{\\hbar^{2} l^{5}}{70 m} \\left(- 9 \\sqrt{5} + 30\\right) + \\frac{\\hbar^{2} l^{5}}{30 m}\\right) + c_{3 2} \\left(- \\frac{\\hbar^{2} l^{7}}{315 m} \\left(- 9 \\sqrt{5} + 30\\right) + \\frac{\\hbar^{2} l^{7}}{105 m}\\right) & c_{3 3} \\left(- \\frac{\\hbar^{2} l^{5}}{420 m} \\left(- 9 \\sqrt{5} + 30\\right) + \\frac{\\hbar^{2} l^{5}}{40 m}\\right) + c_{3 4} \\left(- \\frac{\\hbar^{2} l^{7}}{2520 m} \\left(- 9 \\sqrt{5} + 30\\right) + \\frac{\\hbar^{2} l^{7}}{280 m}\\right) & c_{3 3} \\left(- \\frac{\\hbar^{2} l^{7}}{2520 m} \\left(- 9 \\sqrt{5} + 30\\right) + \\frac{\\hbar^{2} l^{7}}{280 m}\\right) + c_{3 4} \\left(- \\frac{\\hbar^{2} l^{9}}{13860 m} \\left(- 9 \\sqrt{5} + 30\\right) + \\frac{\\hbar^{2} l^{9}}{1260 m}\\right) & 0\\\\c_{4 1} \\left(- \\frac{\\hbar^{2} l^{3}}{15 m} \\left(9 \\sqrt{5} + 30\\right) + \\frac{\\hbar^{2} l^{3}}{6 m}\\right) + c_{4 2} \\left(- \\frac{\\hbar^{2} l^{5}}{70 m} \\left(9 \\sqrt{5} + 30\\right) + \\frac{\\hbar^{2} l^{5}}{30 m}\\right) & c_{4 1} \\left(- \\frac{\\hbar^{2} l^{5}}{70 m} \\left(9 \\sqrt{5} + 30\\right) + \\frac{\\hbar^{2} l^{5}}{30 m}\\right) + c_{4 2} \\left(- \\frac{\\hbar^{2} l^{7}}{315 m} \\left(9 \\sqrt{5} + 30\\right) + \\frac{\\hbar^{2} l^{7}}{105 m}\\right) & c_{4 3} \\left(- \\frac{\\hbar^{2} l^{5}}{420 m} \\left(9 \\sqrt{5} + 30\\right) + \\frac{\\hbar^{2} l^{5}}{40 m}\\right) + c_{4 4} \\left(- \\frac{\\hbar^{2} l^{7}}{2520 m} \\left(9 \\sqrt{5} + 30\\right) + \\frac{\\hbar^{2} l^{7}}{280 m}\\right) & c_{4 3} \\left(- \\frac{\\hbar^{2} l^{7}}{2520 m} \\left(9 \\sqrt{5} + 30\\right) + \\frac{\\hbar^{2} l^{7}}{280 m}\\right) + c_{4 4} \\left(- \\frac{\\hbar^{2} l^{9}}{13860 m} \\left(9 \\sqrt{5} + 30\\right) + \\frac{\\hbar^{2} l^{9}}{1260 m}\\right) & 0\\end{matrix}\\right]$$"
      ],
      "text/plain": [
       "⎡     ⎛    2  3                  2  3⎞        ⎛    2  5                  2  5⎞\n",
       "⎢     ⎜  h̅ ⋅l ⋅(-√133 + 14)   h̅ ⋅l ⎟        ⎜  h̅ ⋅l ⋅(-√133 + 14)   h̅ ⋅l ⎟\n",
       "⎢c₁ ₁⋅⎜- ─────────────────── + ──────⎟ + c₁ ₂⋅⎜- ─────────────────── + ──────⎟\n",
       "⎢     ⎝          15⋅m           6⋅m  ⎠        ⎝          70⋅m           30⋅m ⎠\n",
       "⎢                                                                             \n",
       "⎢      ⎛    2  3                 2  3⎞        ⎛    2  5                 2  5⎞ \n",
       "⎢      ⎜  h̅ ⋅l ⋅(√133 + 14)   h̅ ⋅l ⎟        ⎜  h̅ ⋅l ⋅(√133 + 14)   h̅ ⋅l ⎟ \n",
       "⎢ c₂ ₁⋅⎜- ────────────────── + ──────⎟ + c₂ ₂⋅⎜- ────────────────── + ──────⎟ \n",
       "⎢      ⎝         15⋅m           6⋅m  ⎠        ⎝         70⋅m           30⋅m ⎠ \n",
       "⎢                                                                             \n",
       "⎢     ⎛    2  3                  2  3⎞        ⎛    2  5                  2  5⎞\n",
       "⎢     ⎜  h̅ ⋅l ⋅(-9⋅√5 + 30)   h̅ ⋅l ⎟        ⎜  h̅ ⋅l ⋅(-9⋅√5 + 30)   h̅ ⋅l ⎟\n",
       "⎢c₃ ₁⋅⎜- ─────────────────── + ──────⎟ + c₃ ₂⋅⎜- ─────────────────── + ──────⎟\n",
       "⎢     ⎝          15⋅m           6⋅m  ⎠        ⎝          70⋅m           30⋅m ⎠\n",
       "⎢                                                                             \n",
       "⎢      ⎛    2  3                 2  3⎞        ⎛    2  5                 2  5⎞ \n",
       "⎢      ⎜  h̅ ⋅l ⋅(9⋅√5 + 30)   h̅ ⋅l ⎟        ⎜  h̅ ⋅l ⋅(9⋅√5 + 30)   h̅ ⋅l ⎟ \n",
       "⎢ c₄ ₁⋅⎜- ────────────────── + ──────⎟ + c₄ ₂⋅⎜- ────────────────── + ──────⎟ \n",
       "⎣      ⎝         15⋅m           6⋅m  ⎠        ⎝         70⋅m           30⋅m ⎠ \n",
       "\n",
       "       ⎛    2  5                  2  5⎞        ⎛    2  7                  2  7\n",
       "       ⎜  h̅ ⋅l ⋅(-√133 + 14)   h̅ ⋅l ⎟        ⎜  h̅ ⋅l ⋅(-√133 + 14)   h̅ ⋅l \n",
       "  c₁ ₁⋅⎜- ─────────────────── + ──────⎟ + c₁ ₂⋅⎜- ─────────────────── + ──────\n",
       "       ⎝          70⋅m           30⋅m ⎠        ⎝         315⋅m          105⋅m \n",
       "                                                                              \n",
       "        ⎛    2  5                 2  5⎞        ⎛    2  7                 2  7⎞\n",
       "        ⎜  h̅ ⋅l ⋅(√133 + 14)   h̅ ⋅l ⎟        ⎜  h̅ ⋅l ⋅(√133 + 14)   h̅ ⋅l ⎟\n",
       "   c₂ ₁⋅⎜- ────────────────── + ──────⎟ + c₂ ₂⋅⎜- ────────────────── + ──────⎟\n",
       "        ⎝         70⋅m           30⋅m ⎠        ⎝        315⋅m          105⋅m ⎠\n",
       "                                                                              \n",
       "       ⎛    2  5                  2  5⎞        ⎛    2  7                  2  7\n",
       "       ⎜  h̅ ⋅l ⋅(-9⋅√5 + 30)   h̅ ⋅l ⎟        ⎜  h̅ ⋅l ⋅(-9⋅√5 + 30)   h̅ ⋅l \n",
       "  c₃ ₁⋅⎜- ─────────────────── + ──────⎟ + c₃ ₂⋅⎜- ─────────────────── + ──────\n",
       "       ⎝          70⋅m           30⋅m ⎠        ⎝         315⋅m          105⋅m \n",
       "                                                                              \n",
       "        ⎛    2  5                 2  5⎞        ⎛    2  7                 2  7⎞\n",
       "        ⎜  h̅ ⋅l ⋅(9⋅√5 + 30)   h̅ ⋅l ⎟        ⎜  h̅ ⋅l ⋅(9⋅√5 + 30)   h̅ ⋅l ⎟\n",
       "   c₄ ₁⋅⎜- ────────────────── + ──────⎟ + c₄ ₂⋅⎜- ────────────────── + ──────⎟\n",
       "        ⎝         70⋅m           30⋅m ⎠        ⎝        315⋅m          105⋅m ⎠\n",
       "\n",
       "⎞       ⎛    2  5                  2  5⎞        ⎛    2  7                  2  \n",
       "⎟       ⎜  h̅ ⋅l ⋅(-√133 + 14)   h̅ ⋅l ⎟        ⎜  h̅ ⋅l ⋅(-√133 + 14)   h̅ ⋅l\n",
       "⎟  c₁ ₃⋅⎜- ─────────────────── + ──────⎟ + c₁ ₄⋅⎜- ─────────────────── + ─────\n",
       "⎠       ⎝         420⋅m           40⋅m ⎠        ⎝         2520⋅m         280⋅m\n",
       "                                                                              \n",
       "         ⎛    2  5                 2  5⎞        ⎛    2  7                 2  7\n",
       "         ⎜  h̅ ⋅l ⋅(√133 + 14)   h̅ ⋅l ⎟        ⎜  h̅ ⋅l ⋅(√133 + 14)   h̅ ⋅l \n",
       "    c₂ ₃⋅⎜- ────────────────── + ──────⎟ + c₂ ₄⋅⎜- ────────────────── + ──────\n",
       "         ⎝        420⋅m           40⋅m ⎠        ⎝        2520⋅m         280⋅m \n",
       "                                                                              \n",
       "⎞       ⎛    2  5                  2  5⎞        ⎛    2  7                  2  \n",
       "⎟       ⎜  h̅ ⋅l ⋅(-9⋅√5 + 30)   h̅ ⋅l ⎟        ⎜  h̅ ⋅l ⋅(-9⋅√5 + 30)   h̅ ⋅l\n",
       "⎟  c₃ ₃⋅⎜- ─────────────────── + ──────⎟ + c₃ ₄⋅⎜- ─────────────────── + ─────\n",
       "⎠       ⎝         420⋅m           40⋅m ⎠        ⎝         2520⋅m         280⋅m\n",
       "                                                                              \n",
       "         ⎛    2  5                 2  5⎞        ⎛    2  7                 2  7\n",
       "         ⎜  h̅ ⋅l ⋅(9⋅√5 + 30)   h̅ ⋅l ⎟        ⎜  h̅ ⋅l ⋅(9⋅√5 + 30)   h̅ ⋅l \n",
       "    c₄ ₃⋅⎜- ────────────────── + ──────⎟ + c₄ ₄⋅⎜- ────────────────── + ──────\n",
       "         ⎝        420⋅m           40⋅m ⎠        ⎝        2520⋅m         280⋅m \n",
       "\n",
       "7⎞       ⎛    2  7                  2  7⎞        ⎛    2  9                  2 \n",
       " ⎟       ⎜  h̅ ⋅l ⋅(-√133 + 14)   h̅ ⋅l ⎟        ⎜  h̅ ⋅l ⋅(-√133 + 14)   h̅ ⋅\n",
       "─⎟  c₁ ₃⋅⎜- ─────────────────── + ──────⎟ + c₁ ₄⋅⎜- ─────────────────── + ────\n",
       " ⎠       ⎝         2520⋅m         280⋅m ⎠        ⎝        13860⋅m         1260\n",
       "                                                                              \n",
       "⎞         ⎛    2  7                 2  7⎞        ⎛    2  9                 2  \n",
       "⎟         ⎜  h̅ ⋅l ⋅(√133 + 14)   h̅ ⋅l ⎟        ⎜  h̅ ⋅l ⋅(√133 + 14)   h̅ ⋅l\n",
       "⎟    c₂ ₃⋅⎜- ────────────────── + ──────⎟ + c₂ ₄⋅⎜- ────────────────── + ─────\n",
       "⎠         ⎝        2520⋅m         280⋅m ⎠        ⎝       13860⋅m         1260⋅\n",
       "                                                                              \n",
       "7⎞       ⎛    2  7                  2  7⎞        ⎛    2  9                  2 \n",
       " ⎟       ⎜  h̅ ⋅l ⋅(-9⋅√5 + 30)   h̅ ⋅l ⎟        ⎜  h̅ ⋅l ⋅(-9⋅√5 + 30)   h̅ ⋅\n",
       "─⎟  c₃ ₃⋅⎜- ─────────────────── + ──────⎟ + c₃ ₄⋅⎜- ─────────────────── + ────\n",
       " ⎠       ⎝         2520⋅m         280⋅m ⎠        ⎝        13860⋅m         1260\n",
       "                                                                              \n",
       "⎞         ⎛    2  7                 2  7⎞        ⎛    2  9                 2  \n",
       "⎟         ⎜  h̅ ⋅l ⋅(9⋅√5 + 30)   h̅ ⋅l ⎟        ⎜  h̅ ⋅l ⋅(9⋅√5 + 30)   h̅ ⋅l\n",
       "⎟    c₄ ₃⋅⎜- ────────────────── + ──────⎟ + c₄ ₄⋅⎜- ────────────────── + ─────\n",
       "⎠         ⎝        2520⋅m         280⋅m ⎠        ⎝       13860⋅m         1260⋅\n",
       "\n",
       " 9⎞   ⎤\n",
       "l ⎟   ⎥\n",
       "──⎟  0⎥\n",
       "⋅m⎠   ⎥\n",
       "      ⎥\n",
       "9⎞    ⎥\n",
       " ⎟    ⎥\n",
       "─⎟   0⎥\n",
       "m⎠    ⎥\n",
       "      ⎥\n",
       " 9⎞   ⎥\n",
       "l ⎟   ⎥\n",
       "──⎟  0⎥\n",
       "⋅m⎠   ⎥\n",
       "      ⎥\n",
       "9⎞    ⎥\n",
       " ⎟    ⎥\n",
       "─⎟   0⎥\n",
       "m⎠    ⎦"
      ]
     },
     "execution_count": 48,
     "metadata": {},
     "output_type": "execute_result"
    }
   ],
   "source": [
    "eq_gral"
   ]
  },
  {
   "cell_type": "code",
   "execution_count": 59,
   "metadata": {},
   "outputs": [
    {
     "data": {
      "text/latex": [
       "$$\\left [ \\left [ \\left \\{ c_{1 1} : \\frac{c_{1 2}}{3} l^{2} + \\frac{c_{1 2}}{21} \\sqrt{133} l^{2}, \\quad c_{1 3} : 0, \\quad c_{1 4} : 0\\right \\}\\right ], \\quad \\left [ \\left \\{ c_{2 1} : - \\frac{c_{2 2}}{21} \\sqrt{133} l^{2} + \\frac{c_{2 2}}{3} l^{2}, \\quad c_{2 3} : 0, \\quad c_{2 4} : 0\\right \\}\\right ], \\quad \\left [ \\left \\{ c_{3 1} : 0, \\quad c_{3 2} : 0, \\quad c_{3 3} : \\frac{c_{3 4}}{33} l^{2} + \\frac{c_{3 4}}{11} \\sqrt{5} l^{2}\\right \\}\\right ], \\quad \\left [ \\left \\{ c_{4 1} : 0, \\quad c_{4 2} : 0, \\quad c_{4 3} : - \\frac{c_{4 4}}{11} \\sqrt{5} l^{2} + \\frac{c_{4 4}}{33} l^{2}\\right \\}\\right ]\\right ]$$"
      ],
      "text/plain": [
       "⎡⎡⎧            2              2                  ⎫⎤  ⎡⎧                   2   \n",
       "⎢⎢⎪      c₁ ₂⋅l    √133⋅c₁ ₂⋅l                   ⎪⎥  ⎢⎪        √133⋅c₂ ₂⋅l    \n",
       "⎢⎢⎨c₁ ₁: ─────── + ────────────, c₁ ₃: 0, c₁ ₄: 0⎬⎥, ⎢⎨c₂ ₁: - ──────────── + \n",
       "⎢⎢⎪         3           21                       ⎪⎥  ⎢⎪             21        \n",
       "⎣⎣⎩                                              ⎭⎦  ⎣⎩                       \n",
       "\n",
       "      2                  ⎫⎤  ⎡⎧                              2            2⎫⎤ \n",
       "c₂ ₂⋅l                   ⎪⎥  ⎢⎪                        c₃ ₄⋅l    √5⋅c₃ ₄⋅l ⎪⎥ \n",
       "───────, c₂ ₃: 0, c₂ ₄: 0⎬⎥, ⎢⎨c₃ ₁: 0, c₃ ₂: 0, c₃ ₃: ─────── + ──────────⎬⎥,\n",
       "   3                     ⎪⎥  ⎢⎪                           33         11    ⎪⎥ \n",
       "                         ⎭⎦  ⎣⎩                                            ⎭⎦ \n",
       "\n",
       " ⎡⎧                                   2         2⎫⎤⎤\n",
       " ⎢⎪                          √5⋅c₄ ₄⋅l    c₄ ₄⋅l ⎪⎥⎥\n",
       " ⎢⎨c₄ ₁: 0, c₄ ₂: 0, c₄ ₃: - ────────── + ───────⎬⎥⎥\n",
       " ⎢⎪                              11          33  ⎪⎥⎥\n",
       " ⎣⎩                                              ⎭⎦⎦"
      ]
     },
     "execution_count": 59,
     "metadata": {},
     "output_type": "execute_result"
    }
   ],
   "source": [
    "sol_gral"
   ]
  },
  {
   "cell_type": "code",
   "execution_count": 98,
   "metadata": {},
   "outputs": [
    {
     "data": {
      "text/latex": [
       "$$\\left[\\begin{matrix}\\frac{k l^{2}}{3} + \\frac{\\sqrt{133} k}{21} l^{2} & k & 0 & 0\\\\- \\frac{\\sqrt{133} k}{21} l^{2} + \\frac{k l^{2}}{3} & k & 0 & 0\\\\0 & 0 & \\frac{k l^{2}}{33} + \\frac{\\sqrt{5} k}{11} l^{2} & k\\\\0 & 0 & - \\frac{\\sqrt{5} k}{11} l^{2} + \\frac{k l^{2}}{33} & k\\end{matrix}\\right]$$"
      ],
      "text/plain": [
       "⎡    2           2                         ⎤\n",
       "⎢ k⋅l    √133⋅k⋅l                          ⎥\n",
       "⎢ ──── + ─────────   k         0          0⎥\n",
       "⎢  3         21                            ⎥\n",
       "⎢                                          ⎥\n",
       "⎢          2      2                        ⎥\n",
       "⎢  √133⋅k⋅l    k⋅l                         ⎥\n",
       "⎢- ───────── + ────  k         0          0⎥\n",
       "⎢      21       3                          ⎥\n",
       "⎢                                          ⎥\n",
       "⎢                           2         2    ⎥\n",
       "⎢                        k⋅l    √5⋅k⋅l     ⎥\n",
       "⎢        0           0   ──── + ───────   k⎥\n",
       "⎢                         33       11      ⎥\n",
       "⎢                                          ⎥\n",
       "⎢                               2      2   ⎥\n",
       "⎢                         √5⋅k⋅l    k⋅l    ⎥\n",
       "⎢        0           0  - ─────── + ────  k⎥\n",
       "⎣                            11      33    ⎦"
      ]
     },
     "execution_count": 98,
     "metadata": {},
     "output_type": "execute_result"
    }
   ],
   "source": [
    "soluciones=zeros(n,n)\n",
    "for i in range(0, n):\n",
    "    for j in range (0,n):\n",
    "        if sympify('c_'+str(i+1)+'_'+str(j+1)) in sol_gral[i][0]:\n",
    "            soluciones[i,j]= sol_gral[i][0][c_gral[i,j]]\n",
    "        else:\n",
    "            #soluciones[i,j] = c_gral[i,j]\n",
    "            soluciones[i,j] = k\n",
    "            soluciones[i,:]=soluciones[i,:].subs(c_gral[i,j],k)\n",
    "soluciones"
   ]
  },
  {
   "cell_type": "code",
   "execution_count": 99,
   "metadata": {},
   "outputs": [],
   "source": [
    "#Normalizar\n",
    "Phi_n=zeros(n,1)\n",
    "Norm_gral=zeros(n,1)\n",
    "for j in range (0,n):\n",
    "    for i in range (0,n):\n",
    "        Phi_n[j,0]=Phi_n[j,0] + soluciones[j,i]*F[i] \n",
    "\n",
    "for i in range (0,n):\n",
    "    Norm_gral[i,0]=Integral(Phi_n[i,0]**2, (x,0,l)).doit()-1\n",
    "    K=(solve(Norm_gral[i,0],k)[0]).evalf() #Valor positivo de k \n",
    "    Phi_n[i,0]=(Phi_n[i,0].subs(k,K)).evalf()"
   ]
  },
  {
   "cell_type": "code",
   "execution_count": 100,
   "metadata": {},
   "outputs": [
    {
     "data": {
      "text/latex": [
       "$$\\left[\\begin{matrix}- 4.40399751133633 l^{2} x \\left(l - x\\right) \\left(\\frac{1}{l^{9}}\\right)^{0.5} - 4.99034859672658 x^{2} \\left(l - x\\right)^{2} \\left(\\frac{1}{l^{9}}\\right)^{0.5}\\\\28.6462005494649 l^{2} x \\left(l - x\\right) \\left(\\frac{1}{l^{9}}\\right)^{0.5} - 132.721876195613 x^{2} \\left(l - x\\right)^{2} \\left(\\frac{1}{l^{9}}\\right)^{0.5}\\\\- 16.7823521557751 l^{2} x \\left(0.5 l - x\\right) \\left(l - x\\right) \\left(\\frac{1}{l^{11}}\\right)^{0.5} - 71.8478164291383 x^{2} \\left(0.5 l - x\\right) \\left(l - x\\right)^{2} \\left(\\frac{1}{l^{11}}\\right)^{0.5}\\\\98.9866286733697 l^{2} x \\left(0.5 l - x\\right) \\left(l - x\\right) \\left(\\frac{1}{l^{11}}\\right)^{0.5} - 572.256840303692 x^{2} \\left(0.5 l - x\\right) \\left(l - x\\right)^{2} \\left(\\frac{1}{l^{11}}\\right)^{0.5}\\end{matrix}\\right]$$"
      ],
      "text/plain": [
       "⎡                                                 0.5                         \n",
       "⎢                                 2           ⎛1 ⎞                        2   \n",
       "⎢             - 4.40399751133633⋅l ⋅x⋅(l - x)⋅⎜──⎟    - 4.99034859672658⋅x ⋅(l\n",
       "⎢                                             ⎜ 9⎟                            \n",
       "⎢                                             ⎝l ⎠                            \n",
       "⎢                                                                             \n",
       "⎢                                                0.5                          \n",
       "⎢                                2           ⎛1 ⎞                        2    \n",
       "⎢              28.6462005494649⋅l ⋅x⋅(l - x)⋅⎜──⎟    - 132.721876195613⋅x ⋅(l \n",
       "⎢                                            ⎜ 9⎟                             \n",
       "⎢                                            ⎝l ⎠                             \n",
       "⎢                                                                             \n",
       "⎢                                                 0.5                         \n",
       "⎢                    2                       ⎛ 1 ⎞                        2   \n",
       "⎢- 16.7823521557751⋅l ⋅x⋅(0.5⋅l - x)⋅(l - x)⋅⎜───⎟    - 71.8478164291383⋅x ⋅(0\n",
       "⎢                                            ⎜ 11⎟                            \n",
       "⎢                                            ⎝l  ⎠                            \n",
       "⎢                                                                             \n",
       "⎢                                                0.5                          \n",
       "⎢                   2                       ⎛ 1 ⎞                        2    \n",
       "⎢ 98.9866286733697⋅l ⋅x⋅(0.5⋅l - x)⋅(l - x)⋅⎜───⎟    - 572.256840303692⋅x ⋅(0.\n",
       "⎢                                           ⎜ 11⎟                             \n",
       "⎣                                           ⎝l  ⎠                             \n",
       "\n",
       "           0.5             ⎤\n",
       "     2 ⎛1 ⎞                ⎥\n",
       " - x) ⋅⎜──⎟                ⎥\n",
       "       ⎜ 9⎟                ⎥\n",
       "       ⎝l ⎠                ⎥\n",
       "                           ⎥\n",
       "          0.5              ⎥\n",
       "    2 ⎛1 ⎞                 ⎥\n",
       "- x) ⋅⎜──⎟                 ⎥\n",
       "      ⎜ 9⎟                 ⎥\n",
       "      ⎝l ⎠                 ⎥\n",
       "                           ⎥\n",
       "                        0.5⎥\n",
       "                 2 ⎛ 1 ⎞   ⎥\n",
       ".5⋅l - x)⋅(l - x) ⋅⎜───⎟   ⎥\n",
       "                   ⎜ 11⎟   ⎥\n",
       "                   ⎝l  ⎠   ⎥\n",
       "                           ⎥\n",
       "                       0.5 ⎥\n",
       "                2 ⎛ 1 ⎞    ⎥\n",
       "5⋅l - x)⋅(l - x) ⋅⎜───⎟    ⎥\n",
       "                  ⎜ 11⎟    ⎥\n",
       "                  ⎝l  ⎠    ⎦"
      ]
     },
     "execution_count": 100,
     "metadata": {},
     "output_type": "execute_result"
    }
   ],
   "source": [
    "Phi_n"
   ]
  }
 ],
 "metadata": {
  "kernelspec": {
   "display_name": "Python 3",
   "language": "python",
   "name": "python3"
  },
  "language_info": {
   "codemirror_mode": {
    "name": "ipython",
    "version": 3
   },
   "file_extension": ".py",
   "mimetype": "text/x-python",
   "name": "python",
   "nbconvert_exporter": "python",
   "pygments_lexer": "ipython3",
   "version": "3.6.1"
  }
 },
 "nbformat": 4,
 "nbformat_minor": 2
}
