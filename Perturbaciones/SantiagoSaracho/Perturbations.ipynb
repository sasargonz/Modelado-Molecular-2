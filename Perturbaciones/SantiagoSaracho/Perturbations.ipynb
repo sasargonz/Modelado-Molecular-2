{
 "cells": [
  {
   "cell_type": "markdown",
   "metadata": {},
   "source": [
    "## Teoría de perturbaciones"
   ]
  },
  {
   "cell_type": "markdown",
   "metadata": {},
   "source": [
    "Consiste en resolver un sistema perturbado(se conoce la solución al no perturbado), y donde el interés es conocer la contribución de la parte perturbada $H'$ al nuevo sistema total. "
   ]
  },
  {
   "cell_type": "markdown",
   "metadata": {},
   "source": [
    "$$ H = H^{0} + H'$$"
   ]
  },
  {
   "cell_type": "markdown",
   "metadata": {},
   "source": [
    "Para sistemas no degenerados, la corrección a la energía a primer orden se calcula como \n",
    "\n",
    "$$ E_{n}^{(1)} = \\int\\psi_{n}^{(0)*} H' \\psi_{n}^{(0)}d\\tau$$"
   ]
  },
  {
   "cell_type": "markdown",
   "metadata": {},
   "source": [
    "Y la corrección a la función de onda, también a primer orden, se obtiene como:\n",
    "\n",
    " $$ \\psi_{n}^{(1)} = \\sum_{m\\neq n} \\frac{\\langle\\psi_{m}^{(0)} \\left| H' \\right| \\psi_{n}^{(0)} \\rangle}{E_{n}^{(0)} - E_{m}^{(0)}} \\psi_{m}^{(0)}$$"
   ]
  },
  {
   "cell_type": "markdown",
   "metadata": {},
   "source": [
    "** Tarea 1 : Programar ecuación para corrección de energía a primer orden si conoces $H^{0}$ y sus soluciones. **"
   ]
  },
  {
   "cell_type": "markdown",
   "metadata": {},
   "source": [
    "**Tarea 2: Programar ecuación para correcciones a las funciones de onda a primer orden si conoces $H^{0}$ y sus soluciones. **"
   ]
  },
  {
   "cell_type": "markdown",
   "metadata": {},
   "source": [
    "**Tarea 3: Investigue las soluciones a segundo orden y también programe las soluciones. **\n",
    "\n",
    "La corrección de segundo orden a la energía se obtiene de la siguiente forma:\n",
    "\n",
    " $$ E_{n}^{(2)} = \\sum_{m\\neq n} \\frac{\\left| \\langle\\psi_{m}^{(0)} \\left| H' \\right| \\psi_{n}^{(0)} \\rangle\\right|^{2}}{E_{n}^{(0)} - E_{m}^{(0)}}$$\n"
   ]
  },
  {
   "cell_type": "code",
   "execution_count": 1,
   "metadata": {
    "collapsed": true
   },
   "outputs": [],
   "source": [
    "### Solución\n",
    "\n",
    "from sympy import *\n",
    "from sympy import init_printing; init_printing(use_latex = 'mathjax')\n",
    "from sympy.physics.qho_1d import E_n, psi_n\n",
    "from scipy import constants\n",
    "import numpy as np\n",
    "var('x a l psi') #Variables a utilizar\n",
    "var('m n n1 n2 l1 l2 hbar omega c d q r r1 r2 k', positive=True, real=True)\n",
    "\n",
    "def get_corrections(PType,Pert,NI,Mass,L,AngFreq, Range, PertLim1, PertLim2):\n",
    "    E_correction=0\n",
    "    Psi_correction_sym=0\n",
    "    E_correction2=0\n",
    "    Psin=zeros(1,Range[1]-Range[0]+1)\n",
    "    En=zeros(1,Range[1]-Range[0]+1)\n",
    "    \n",
    "    #Problem type original energies and wavefuncions\n",
    "    if PType == \"Harmonic oscilator\":\n",
    "        Psi=psi_n(n,x,m,omega)\n",
    "        Eb=E_n(n,omega)\n",
    "        for i in range (0,Range[1]-Range[0]+1):\n",
    "            Psin[i]=psi_n(Range[0]+i,x,eval(Mass),eval(AngFreq))\n",
    "            En[i]=E_n(Range[0]+i,eval(AngFreq))\n",
    "    \n",
    "    elif PType == 'Particle in a one-dimensional box':\n",
    "        Psi=sqrt(2/a)*sin(n*pi*x/a)\n",
    "        Eb=hbar**2*pi**2*n**2/(2*m*a**2)\n",
    "        for i in range (0,Range[1]-Range[0]+1):\n",
    "            Psin[i]=Psi.subs(n,Range[0]+i).subs(a,eval(L))\n",
    "            En[i]=Eb.subs(n,Range[0]+i).subs(m,eval(Mass)).subs(a,eval(L))        \n",
    "    \n",
    "    #Solutions\n",
    "    if (NI == 0 or Range[0]==0) and PType == 'Particle in a one-dimensional box':\n",
    "        print(\"Error! n cannot be 0 for the particle in a box and helium atom problem\")\n",
    "        E_correction1=sympify('ERROR')\n",
    "        E_correction2=sympify('ERROR')\n",
    "        Psi_correction_sym=sympify('ERROR')\n",
    "            \n",
    "    else:\n",
    "        PsiIntegrals=integrate(Psin[NI-Range[0]]*eval(Pert)*Psin, (x,eval(PertLim1),eval(PertLim2)))\n",
    "        E_correction1=PsiIntegrals[NI-Range[0]]\n",
    "        for i in range (0,Range[1]-Range[0]+1):\n",
    "            if i!= NI-Range[0]:\n",
    "                Psi_correction_sym=Psi_correction_sym+Psin[i]*PsiIntegrals[i]/(En[NI-Range[0]]-En[i])\n",
    "                E_correction2=E_correction2+PsiIntegrals[i]**2/(En[NI-Range[0]]-En[i])\n",
    "   \n",
    "    \n",
    "    return Psi, Eb, Psi_correction_sym, E_correction1, E_correction2\n",
    "    \n"
   ]
  },
  {
   "cell_type": "code",
   "execution_count": 2,
   "metadata": {},
   "outputs": [
    {
     "data": {
      "application/vnd.jupyter.widget-view+json": {
       "model_id": "82abcfa33f8443af93a1cf44cc23d9d8",
       "version_major": 2,
       "version_minor": 0
      },
      "text/plain": [
       "A Jupyter Widget"
      ]
     },
     "metadata": {},
     "output_type": "display_data"
    }
   ],
   "source": [
    "import ipywidgets as wid\n",
    "from IPython.display import display\n",
    "from ipywidgets import Layout, Box, Text, Dropdown, Label, IntSlider, IntRangeSlider, HTML\n",
    "\n",
    "form_item_layout = Layout(\n",
    "    display='flex',\n",
    "    flex_flow='row',\n",
    "    justify_content='space-between'\n",
    ")\n",
    "PType=Dropdown(options=['Particle in a one-dimensional box', 'Harmonic oscilator'])\n",
    "Pert=Text(value='0')\n",
    "NI=IntSlider(value=0, min=0, max=9, step=1)\n",
    "NI2=IntSlider(value=0, min=0, max=9, step=1)\n",
    "lI1=IntSlider(value=0, min=0, max=9, step=1)\n",
    "lI2=IntSlider(value=0, min=0, max=9, step=1)\n",
    "Ran=IntRangeSlider(value=[0,9],min=0,max=9)\n",
    "Mass=Text(value='m')\n",
    "L=Text(value='a')\n",
    "AngFreq=Text(value='omega')\n",
    "Label1=HTML(value=\"Select <b>n</b> for the energy and wavefunction corrections, for particle in a box corrections the\"\n",
    "            \" lowest <b>n</b> is <b>1</b>\")\n",
    "Label2=HTML(value=\"Select the function range for the wavefunction correction sum, for particle in a box the lowest\" \n",
    "            \" <b>m</b> is <b>1</b>. Remember <b>n</b> must be contained in the selected <b>m</b> range\")\n",
    "Label3=HTML(value=\"The following indexes only work for the Helium Atom problem, <b>n</b> index above is used as <b>n1</b>\")\n",
    "Label4=HTML(value=\"Select <b>l</b> for the energy and wavefunction corrections to the helium atom, remember that <b>l</b>\"\n",
    "            \" must be smaller than <b>n</b>\")\n",
    "PertLim1=Text(value='0')\n",
    "PertLim2=Text(value='a')\n",
    "\n",
    "form_items1 = [\n",
    "    Box([Label(value='Problem'),\n",
    "         PType], layout=form_item_layout),\n",
    "    Box([Label(value='Perturbation'),\n",
    "         Pert], layout=form_item_layout),\n",
    "    Box([Label(value='P.Min.Lim'),\n",
    "         PertLim1], layout=form_item_layout),\n",
    "    Box([Label(value='P.May.Lim'),\n",
    "         PertLim2], layout=form_item_layout),\n",
    "    Box([Label(value='P. Mass'),\n",
    "         Mass], layout=form_item_layout),\n",
    "    Box([Label(value='Box size'),\n",
    "         L], layout=form_item_layout),\n",
    "    Box([Label(value='Ang. Freq.'),\n",
    "         AngFreq], layout=form_item_layout),\n",
    "    Box([Label(value=''),\n",
    "         Label1], layout=form_item_layout),\n",
    "    Box([Label(value='n Index'),\n",
    "         NI], layout=form_item_layout),\n",
    "    Box([Label(value=''),\n",
    "         Label2], layout=form_item_layout),\n",
    "    Box([Label(value='m Range'),\n",
    "         Ran], layout=form_item_layout)]\n",
    "\n",
    "form1 = Box(form_items1, layout=Layout(\n",
    "    display='flex',\n",
    "    flex_flow='column',\n",
    "    border='solid 2px',\n",
    "    align_items='stretch',\n",
    "    width='40%'\n",
    "))\n",
    "form1\n"
   ]
  },
  {
   "cell_type": "code",
   "execution_count": 3,
   "metadata": {},
   "outputs": [
    {
     "data": {
      "text/latex": [
       "$$\\left[\\begin{matrix}\\psi_{n}{\\left (0 \\right )} & \\frac{2^{- \\frac{n}{2}} \\sqrt[4]{m} \\sqrt[4]{\\omega}}{\\sqrt[4]{\\hbar} \\sqrt[4]{\\pi}} \\sqrt{\\frac{1}{n!}} e^{- \\frac{m \\omega x^{2}}{2 \\hbar}} H_{n}\\left(\\frac{\\sqrt{m} x}{\\sqrt{\\hbar}} \\sqrt{\\omega}\\right)\\\\\\operatorname{E_{n}}{\\left (0 \\right )} & \\hbar \\omega \\left(n + \\frac{1}{2}\\right)\\\\\\psi_{0}{\\left (1 \\right )} & - \\frac{e^{- \\frac{m \\omega x^{2}}{2 \\hbar}}}{48 \\hbar^{\\frac{5}{4}} \\sqrt[4]{\\pi} m^{\\frac{7}{4}} \\omega^{\\frac{11}{4}}} \\left(16 c m^{2} \\omega^{2} x^{3} + 48 \\hbar c m \\omega x + 12 d m^{2} \\omega^{2} x^{4} + 36 \\hbar d m \\omega x^{2} - 27 \\hbar^{2} d\\right)\\\\\\operatorname{E_{0}}{\\left (1 \\right )} & \\frac{3 \\hbar^{2} d}{4 m^{2} \\omega^{2}}\\\\\\operatorname{E_{0}}{\\left (2 \\right )} & - \\frac{\\hbar^{2}}{8 m^{4} \\omega^{5}} \\left(11 c^{2} m \\omega + 21 \\hbar d^{2}\\right)\\end{matrix}\\right]$$"
      ],
      "text/plain": [
       "⎡                                                      2                      \n",
       "⎢                      -n                        -m⋅ω⋅x                       \n",
       "⎢                      ───                 ____  ────────                     \n",
       "⎢                       2  4 ___ 4 ___    ╱ 1      2⋅ℏ           ⎛   √m⋅√ω⋅x⎞ \n",
       "⎢                     2   ⋅╲╱ m ⋅╲╱ ω ⋅  ╱  ── ⋅ℯ        ⋅hermite⎜n, ───────⎟ \n",
       "⎢                                      ╲╱   n!                   ⎝      √ℏ  ⎠ \n",
       "⎢ψₙ(0)                ─────────────────────────────────────────────────────── \n",
       "⎢                                           4 ___ 4 ___                       \n",
       "⎢                                           ╲╱ ℏ ⋅╲╱ π                        \n",
       "⎢                                                                             \n",
       "⎢Eₙ(0)                                     ℏ⋅ω⋅(n + 1/2)                      \n",
       "⎢                                                                             \n",
       "⎢                                                                             \n",
       "⎢                                                                             \n",
       "⎢                                                                             \n",
       "⎢        ⎛      2  2  3                        2  2  4               2       2\n",
       "⎢       -⎝16⋅c⋅m ⋅ω ⋅x  + 48⋅ℏ⋅c⋅m⋅ω⋅x + 12⋅d⋅m ⋅ω ⋅x  + 36⋅ℏ⋅d⋅m⋅ω⋅x  - 27⋅ℏ \n",
       "⎢ψ₀(1)  ──────────────────────────────────────────────────────────────────────\n",
       "⎢                                         5/4 4 ___  7/4  11/4                \n",
       "⎢                                     48⋅ℏ   ⋅╲╱ π ⋅m   ⋅ω                    \n",
       "⎢                                                                             \n",
       "⎢                                                 2                           \n",
       "⎢                                              3⋅ℏ ⋅d                         \n",
       "⎢E₀(1)                                        ───────                         \n",
       "⎢                                                2  2                         \n",
       "⎢                                             4⋅m ⋅ω                          \n",
       "⎢                                                                             \n",
       "⎢                                      2 ⎛    2             2⎞                \n",
       "⎢                                    -ℏ ⋅⎝11⋅c ⋅m⋅ω + 21⋅ℏ⋅d ⎠                \n",
       "⎢E₀(2)                               ──────────────────────────               \n",
       "⎢                                                4  5                         \n",
       "⎣                                             8⋅m ⋅ω                          \n",
       "\n",
       "              ⎤\n",
       "              ⎥\n",
       "              ⎥\n",
       "              ⎥\n",
       "              ⎥\n",
       "              ⎥\n",
       "              ⎥\n",
       "              ⎥\n",
       "              ⎥\n",
       "              ⎥\n",
       "              ⎥\n",
       "              ⎥\n",
       "           2  ⎥\n",
       "     -m⋅ω⋅x   ⎥\n",
       "     ──────── ⎥\n",
       "  ⎞    2⋅ℏ    ⎥\n",
       "⋅d⎠⋅ℯ         ⎥\n",
       "──────────────⎥\n",
       "              ⎥\n",
       "              ⎥\n",
       "              ⎥\n",
       "              ⎥\n",
       "              ⎥\n",
       "              ⎥\n",
       "              ⎥\n",
       "              ⎥\n",
       "              ⎥\n",
       "              ⎥\n",
       "              ⎥\n",
       "              ⎥\n",
       "              ⎥\n",
       "              ⎦"
      ]
     },
     "execution_count": 3,
     "metadata": {},
     "output_type": "execute_result"
    }
   ],
   "source": [
    "Psi,E,Psicorrection,Ecorrection,Ecorrection2=get_corrections(PType.value, Pert.value, NI.value, Mass.value, L.value, \n",
    "                                                             AngFreq.value, Ran.value, PertLim1.value, PertLim2.value)\n",
    "Correction=Matrix([[sympify('psi_n(0)'),Psi],\n",
    "                   [sympify('E_n(0)'),E],\n",
    "                   [sympify('psi_%d(1)'  %(NI.value)),factor(Psicorrection)],\n",
    "                   [sympify('E_%d(1)'  %(NI.value)),factor(Ecorrection)],\n",
    "                   [sympify('E_%d(2)'  %(NI.value)),factor(Ecorrection2)]])\n",
    "Correction"
   ]
  },
  {
   "cell_type": "markdown",
   "metadata": {},
   "source": [
    "**Tarea 4.  Resolver el átomo de helio aplicando los programas anteriores.** \n",
    "\n",
    "Para resolver el átomo de helio se toma el átomo de hidrógeno como base en donde se considera que el Hamiltoniano original es:\n",
    "\n",
    "$$ H_{0} = H_{1} + H_{2}$$\n",
    "\n",
    "Y la función sin perturbar es:\n",
    "\n",
    "$$ \\psi_{n_1 l_1 n_2 l_2} = \\psi_{n_1 l_1}(r_1)\\psi_{n_2 l_2}(r_2) $$\n",
    "\n",
    "Para lo cual la energía se obtiene de la siguiente forma:\n",
    "\n",
    "$$ E_{n_1  n_2} = -\\alpha \\left( \\frac{1}{n_1}+\\frac{1}{n_2} \\right) $$\n",
    "\n",
    "Ahora agregaremos la perturbación que representa el término repulsivo:\n",
    "\n",
    "$$ H'= \\frac{e^2}{\\left|r_1-r_2\\right|}$$\n"
   ]
  },
  {
   "cell_type": "code",
   "execution_count": 4,
   "metadata": {
    "collapsed": true
   },
   "outputs": [],
   "source": [
    "from sympy.physics.hydrogen import E_nl, R_nl\n",
    "def Helium(N1,N2,L1,L2):\n",
    "    \n",
    "    Eb=E_nl(N1,1)+E_nl(N2,1)\n",
    "    Psi1=R_nl(N1, L1, r1, Z=1)\n",
    "    Psi2=R_nl(N2, L2, r2, Z=1)\n",
    "    Psi=Psi1*Psi2\n",
    "    E_correction1=integrate(integrate(r1**2*r2**2*conjugate(Psi1)*conjugate(Psi2)*q**2*Psi1*Psi2/abs(r1-r2), (r1,0,oo)), (r2,0,oo))\n",
    "    E_correctionR1=q**2*integrate(r2**2*conjugate(Psi2)*Psi2*(integrate(r1**2*conjugate(Psi1)*Psi1/r2, (r1,0,r2))+integrate(r1**2*conjugate(Psi1)*Psi1/r1, (r1,r2,oo))), (r2,0,oo))\n",
    "    \n",
    "    return Psi, Eb, E_correction1, E_correctionR1"
   ]
  },
  {
   "cell_type": "code",
   "execution_count": 5,
   "metadata": {},
   "outputs": [
    {
     "data": {
      "application/vnd.jupyter.widget-view+json": {
       "model_id": "8e7e9e45fbe94a839efe746520d54b1f",
       "version_major": 2,
       "version_minor": 0
      },
      "text/plain": [
       "A Jupyter Widget"
      ]
     },
     "metadata": {},
     "output_type": "display_data"
    }
   ],
   "source": [
    "NI1=IntSlider(value=1, min=0, max=9, step=1)\n",
    "NI2=IntSlider(value=1, min=0, max=9, step=1)\n",
    "LI1=IntSlider(value=0, min=0, max=9, step=1)\n",
    "LI2=IntSlider(value=0, min=0, max=9, step=1)\n",
    "Label3=HTML(value=\"Select <b>n1</b>, <b>n2</b>, <b>l1</b>, <b>l2</b> indexes to be used for the first order\"\n",
    "            \" energy correction to the Helium Atom\")\n",
    "\n",
    "form_items2 = [\n",
    "    Box([Label(value=''),\n",
    "         Label3], layout=form_item_layout),\n",
    "    Box([Label(value='n1 Index'),\n",
    "         NI1], layout=form_item_layout),\n",
    "    Box([Label(value='n2 Index'),\n",
    "         NI2], layout=form_item_layout),\n",
    "    Box([Label(value='l1 Index'),\n",
    "         LI1], layout=form_item_layout),\n",
    "    Box([Label(value='l2 Index'),\n",
    "         LI2], layout=form_item_layout)]\n",
    "\n",
    "form2 = Box(form_items2, layout=Layout(\n",
    "    display='flex',\n",
    "    flex_flow='column',\n",
    "    border='solid 2px',\n",
    "    align_items='stretch',\n",
    "    width='40%'\n",
    "))\n",
    "form2\n"
   ]
  },
  {
   "cell_type": "code",
   "execution_count": 7,
   "metadata": {},
   "outputs": [
    {
     "data": {
      "text/latex": [
       "$$\\left[\\begin{matrix}\\psi_{}{\\left (0 \\right )} & 4 e^{- r_{1}} e^{- r_{2}}\\\\\\operatorname{E_{}}{\\left (0 \\right )} & -1\\\\\\operatorname{E_{}}{\\left (1 \\right )} & 16 q^{2} \\int_{0}^{\\infty} r_{2}^{2} e^{- 2 r_{2}} \\int_{0}^{\\infty} \\frac{r_{1}^{2} e^{- 2 r_{1}}}{\\left|{r_{1} - r_{2}}\\right|}\\, dr_{1}\\, dr_{2}\\\\\\operatorname{E_{}}{\\left (1 \\right )} & \\frac{5 q^{2}}{8}\\end{matrix}\\right]$$"
      ],
      "text/plain": [
       "⎡                         -r₁  -r₂                ⎤\n",
       "⎢ψ(0)                  4⋅ℯ   ⋅ℯ                   ⎥\n",
       "⎢                                                 ⎥\n",
       "⎢E(0)                      -1                     ⎥\n",
       "⎢                                                 ⎥\n",
       "⎢            ∞                                    ⎥\n",
       "⎢            ⌠                                    ⎥\n",
       "⎢            ⎮            ∞                       ⎥\n",
       "⎢            ⎮            ⌠                       ⎥\n",
       "⎢            ⎮            ⎮   2  -2⋅r₁            ⎥\n",
       "⎢          2 ⎮   2  -2⋅r₂ ⎮ r₁ ⋅ℯ                 ⎥\n",
       "⎢E(1)  16⋅q ⋅⎮ r₂ ⋅ℯ     ⋅⎮ ────────── d(r₁) d(r₂)⎥\n",
       "⎢            ⎮            ⎮ │r₁ - r₂│             ⎥\n",
       "⎢            ⎮            ⌡                       ⎥\n",
       "⎢            ⎮            0                       ⎥\n",
       "⎢            ⌡                                    ⎥\n",
       "⎢            0                                    ⎥\n",
       "⎢                                                 ⎥\n",
       "⎢                            2                    ⎥\n",
       "⎢                         5⋅q                     ⎥\n",
       "⎢E(1)                     ────                    ⎥\n",
       "⎣                          8                      ⎦"
      ]
     },
     "execution_count": 7,
     "metadata": {},
     "output_type": "execute_result"
    }
   ],
   "source": [
    "HPsi,HE,HEcorrection, HER=Helium(NI1.value, NI2.value, LI1.value, LI2.value)\n",
    "\n",
    "HCorrection=Matrix([[sympify('psi_(0)'), HPsi], \n",
    "                    [sympify('E_(0)'), HE], \n",
    "                    [sympify('E_(1)'), factor(HEcorrection)],\n",
    "                    [sympify('E_(1)'), HER]])\n",
    "HCorrection"
   ]
  },
  {
   "cell_type": "markdown",
   "metadata": {},
   "source": [
    "**Tarea 5: Método variacional-perturbativo. **\n",
    "\n",
    "\n",
    "Este método nos permite estimar de forma precisa $E^{(2)}$ y correcciones perturbativas de la energía de órdenes más elevados para el estado fundamental del sistema, sin evaluar sumas infinitas. Ver ecuación 9.38 del libro. \n",
    "\n",
    "$$ \\langle u \\left| H^0 - E_g^{(0)} \\right| u \\rangle + \\langle u \\left| H^\\prime - E_g^{(1)} \\right| \\psi_{g}^{(0)} \\rangle \n",
    "+  \\langle \\psi_{g}^{(0)} \\left| H^\\prime - E_g^{(1)} \\right| u \\rangle \\geq E_g^{(2)} $$"
   ]
  },
  {
   "cell_type": "code",
   "execution_count": 9,
   "metadata": {
    "collapsed": true
   },
   "outputs": [],
   "source": [
    "def var_pert(PType,u,Pert):\n",
    "    #Problem type original energies and wavefuncions\n",
    "    if PType == \"Harmonic oscilator\":\n",
    "        Psin=psi_n(n,x,m,omega)\n",
    "        En=E_n(n,omega)\n",
    "        Psig=psi_n(0,x,m,omega)\n",
    "        Eg=E_n(0,omega)\n",
    "        H=(-hbar**2/(2*m))*diff(u, x, 2) + (m*omega**2*x**2/2)*u\n",
    "        \n",
    "        E_correction1=integrate(Psig*Pert*Psig, (x,-oo,oo))\n",
    "        EQ=integrate(u*(H+Eg)*u, (x,-oo,oo))+integrate(u*(Pert-E_correction1)*Psig, (x,-oo,oo))+integrate(Psig*(Pert-E_correction1)*u, (x,-oo,oo))\n",
    "        Opt=solve(diff(EQ,k,1),k, dict=true)\n",
    "        EQ=EQ.subs(k,Opt)\n",
    "    \n",
    "    elif PType == 'Particle in a one-dimensional box':\n",
    "        Psin=sqrt(2/a)*sin(n*pi*x/a)\n",
    "        En=hbar**2*pi**2*n**2/(2*m*a**2)\n",
    "        Psig=Psin.subs(n,1)\n",
    "        Eg=En.subs(n,1)\n",
    "        H=(-hbar**2/(2*m))*diff(u, x, 2)\n",
    "            \n",
    "        E_correction1=integrate(Psig*Pert*Psig, (x,0,a))\n",
    "        EQ=integrate(u*H-u*Eg*u, (x,0,a))+integrate(u*(Pert-E_correction1)*Psig, (x,0,a))+integrate(Psig*(Pert-E_correction1)*u, (x,0,a))\n",
    "        Opt=solve(diff(EQ,k,1),k, dict=true)\n",
    "        EQ=EQ.subs(k,Opt[0][k])\n",
    "    return Psin, En, E_correction1, EQ"
   ]
  },
  {
   "cell_type": "code",
   "execution_count": 11,
   "metadata": {},
   "outputs": [
    {
     "data": {
      "application/vnd.jupyter.widget-view+json": {
       "model_id": "acb15f9dc6754fe7afa33bd9a8a97186",
       "version_major": 2,
       "version_minor": 0
      },
      "text/plain": [
       "A Jupyter Widget"
      ]
     },
     "metadata": {},
     "output_type": "display_data"
    }
   ],
   "source": [
    "PType2=Dropdown(options=['Particle in a one-dimensional box', 'Harmonic oscilator'])\n",
    "fPrueba=Text(value='x*k')\n",
    "Pert2=Text(value='0')\n",
    "Label4=HTML(value=\"Select the problem type and write the perturbation and test function, include a constant k for \"\n",
    "            \"which the system will be optimized\")\n",
    "\n",
    "form_items3 = [\n",
    "    Box([Label(value=''),\n",
    "         Label4], layout=form_item_layout),\n",
    "    Box([Label(value='Problem'),\n",
    "         PType2], layout=form_item_layout),\n",
    "    Box([Label(value='Test fun.'),\n",
    "         fPrueba], layout=form_item_layout), \n",
    "    Box([Label(value='Perturbation'),\n",
    "         Pert2], layout=form_item_layout)]\n",
    "\n",
    "form3 = Box(form_items3, layout=Layout(\n",
    "    display='flex',\n",
    "    flex_flow='column',\n",
    "    border='solid 2px',\n",
    "    align_items='stretch',\n",
    "    width='40%'\n",
    "))\n",
    "form3\n"
   ]
  },
  {
   "cell_type": "code",
   "execution_count": 12,
   "metadata": {},
   "outputs": [
    {
     "data": {
      "text/latex": [
       "$$\\left ( \\sqrt{2} \\sqrt{\\frac{1}{a}} \\sin{\\left (\\frac{\\pi x}{a} n \\right )}, \\quad \\frac{\\pi^{2} \\hbar^{2} n^{2}}{2 a^{2} m}, \\quad \\frac{2}{a} \\left(- \\frac{a^{3}}{4 \\pi^{2}} + \\frac{a^{3}}{6}\\right), \\quad - \\frac{a^{6} m \\left(-33 + 4 \\pi^{2}\\right)^{2}}{3 \\pi^{8} \\hbar^{2}} + \\frac{4 a^{3} m}{\\pi^{5} a \\hbar^{2}} \\left(-33 + 4 \\pi^{2}\\right) \\left(- \\frac{11 a^{4}}{2 \\pi^{3}} + \\frac{2 a^{4}}{3 \\pi}\\right)\\right )$$"
      ],
      "text/plain": [
       "⎛                                    ⎛    3     3⎞                            \n",
       "⎜                                    ⎜   a     a ⎟                            \n",
       "⎜                                  2⋅⎜- ──── + ──⎟                     2   4⋅a\n",
       "⎜       ___              2   2  2    ⎜     2   6 ⎟     6   ⎛         2⎞       \n",
       "⎜      ╱ 1     ⎛π⋅n⋅x⎞  π ⋅h̅ ⋅n     ⎝  4⋅π      ⎠    a ⋅m⋅⎝-33 + 4⋅π ⎠       \n",
       "⎜√2⋅  ╱  ─ ⋅sin⎜─────⎟, ─────────, ───────────────, - ────────────────── + ───\n",
       "⎜   ╲╱   a     ⎝  a  ⎠       2            a                   8   2           \n",
       "⎝                         2⋅a ⋅m                           3⋅π ⋅h̅            \n",
       "\n",
       "                 ⎛      4      4⎞⎞\n",
       "3   ⎛         2⎞ ⎜  11⋅a    2⋅a ⎟⎟\n",
       " ⋅m⋅⎝-33 + 4⋅π ⎠⋅⎜- ───── + ────⎟⎟\n",
       "                 ⎜      3   3⋅π ⎟⎟\n",
       "                 ⎝   2⋅π        ⎠⎟\n",
       "─────────────────────────────────⎟\n",
       "            5     2              ⎟\n",
       "           π ⋅a⋅h̅               ⎠"
      ]
     },
     "execution_count": 12,
     "metadata": {},
     "output_type": "execute_result"
    }
   ],
   "source": [
    "var_pert(PType2.value, eval(fPrueba.value), eval(Pert2.value))"
   ]
  },
  {
   "cell_type": "markdown",
   "metadata": {},
   "source": [
    "**Tarea 6. Revisar sección 9.7. **\n",
    "\n",
    "Inicialmente a mano, y sengunda instancia favor de intentar programar sección del problema, i.e. integral de Coulomb  e integral de intercambio."
   ]
  },
  {
   "cell_type": "code",
   "execution_count": null,
   "metadata": {
    "collapsed": true
   },
   "outputs": [],
   "source": []
  },
  {
   "cell_type": "markdown",
   "metadata": {},
   "source": [
    "## Siguiente: Segunda parte, Octubre\n",
    "Simetrías moleculares y Hartree-Fock"
   ]
  },
  {
   "cell_type": "code",
   "execution_count": 73,
   "metadata": {},
   "outputs": [
    {
     "data": {
      "text/latex": [
       "$$NotProgramed$$"
      ],
      "text/plain": [
       "NotProgramed"
      ]
     },
     "execution_count": 73,
     "metadata": {},
     "output_type": "execute_result"
    }
   ],
   "source": []
  },
  {
   "cell_type": "code",
   "execution_count": null,
   "metadata": {
    "collapsed": true
   },
   "outputs": [],
   "source": []
  }
 ],
 "metadata": {
  "kernelspec": {
   "display_name": "Python 3",
   "language": "python",
   "name": "python3"
  },
  "language_info": {
   "codemirror_mode": {
    "name": "ipython",
    "version": 3
   },
   "file_extension": ".py",
   "mimetype": "text/x-python",
   "name": "python",
   "nbconvert_exporter": "python",
   "pygments_lexer": "ipython3",
   "version": "3.6.2"
  }
 },
 "nbformat": 4,
 "nbformat_minor": 1
}
